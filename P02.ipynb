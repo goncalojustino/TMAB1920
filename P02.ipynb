# P02 - Instalação de GROMACS e primeiros comandos em Linux

Depois de instalado o terminal Ubuntu recorrendo à Microsoft Store, e de definido um username (neste caso USER) e a respectiva password, temos acesso à prompt - linha de comandos onde podemos executar comandos, terminada em "$".

O primeiro passo será actualizar o repositório (base de dados de software) e instalar o programa GROMACS.

''' $ sudo apt update '''

"sudo" é o modo de executar os comandos a seguir como administrador (sudo = SUper-user DO), e pede a password de administrador (é necessário carrgar Enter depois de escrever a passowrd).

"apt" (APTitude) é o gestor de software; neste caso, o administrador está a dizer ao gestor de software para actualizar a informação sobre o software disponível.

O ouput deste comando termina com:

'''Fetched 18.5 MB in 24s (754 kB/s)
Reading package lists... Done
Building dependency tree
Reading state information... Done
8 packages can be upgraded. Run 'apt list --upgradable' to see them.
~$'''

Existem packages que podem ser actualizados, a informação foi actualizada, E estamos de volta na prompt ($). Podemos agora instalar o programa GROMACS:

sudo apt install gromacs

Este comando é interactivo - pede informação ao utilizador:

Do you want to continue? [Y/n]

Neste caso, basta escrever Y e carregar Enter.

### grab a coffee.
